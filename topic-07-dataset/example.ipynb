{
 "cells": [
  {
   "cell_type": "code",
   "execution_count": 3,
   "id": "950cb9a0",
   "metadata": {},
   "outputs": [
    {
     "name": "stdout",
     "output_type": "stream",
     "text": [
      "Collecting dataset\n",
      "  Downloading dataset-1.6.2-py2.py3-none-any.whl.metadata (1.9 kB)\n",
      "Collecting sqlalchemy<2.0.0,>=1.3.2 (from dataset)\n",
      "  Downloading sqlalchemy-1.4.54.tar.gz (8.5 MB)\n",
      "     ---------------------------------------- 0.0/8.5 MB ? eta -:--:--\n",
      "     -------------- ------------------------- 3.1/8.5 MB 22.2 MB/s eta 0:00:01\n",
      "     ---------------------------------------- 8.5/8.5 MB 25.4 MB/s  0:00:00\n",
      "  Installing build dependencies: started\n",
      "  Installing build dependencies: finished with status 'done'\n",
      "  Getting requirements to build wheel: started\n",
      "  Getting requirements to build wheel: finished with status 'done'\n",
      "  Preparing metadata (pyproject.toml): started\n",
      "  Preparing metadata (pyproject.toml): finished with status 'done'\n",
      "Collecting alembic>=0.6.2 (from dataset)\n",
      "  Downloading alembic-1.17.0-py3-none-any.whl.metadata (7.2 kB)\n",
      "Collecting banal>=1.0.1 (from dataset)\n",
      "  Downloading banal-1.0.6-py2.py3-none-any.whl.metadata (1.4 kB)\n",
      "Requirement already satisfied: greenlet!=0.4.17 in c:\\users\\lntwa\\appdata\\local\\programs\\python\\python313\\lib\\site-packages (from sqlalchemy<2.0.0,>=1.3.2->dataset) (3.2.4)\n",
      "Collecting Mako (from alembic>=0.6.2->dataset)\n",
      "  Downloading mako-1.3.10-py3-none-any.whl.metadata (2.9 kB)\n",
      "Requirement already satisfied: typing-extensions>=4.12 in c:\\users\\lntwa\\appdata\\local\\programs\\python\\python313\\lib\\site-packages (from alembic>=0.6.2->dataset) (4.15.0)\n",
      "Requirement already satisfied: MarkupSafe>=0.9.2 in c:\\users\\lntwa\\appdata\\local\\programs\\python\\python313\\lib\\site-packages (from Mako->alembic>=0.6.2->dataset) (3.0.2)\n",
      "Downloading dataset-1.6.2-py2.py3-none-any.whl (18 kB)\n",
      "Downloading alembic-1.17.0-py3-none-any.whl (247 kB)\n",
      "Downloading banal-1.0.6-py2.py3-none-any.whl (6.1 kB)\n",
      "Downloading mako-1.3.10-py3-none-any.whl (78 kB)\n",
      "Building wheels for collected packages: sqlalchemy\n",
      "  Building wheel for sqlalchemy (pyproject.toml): started\n",
      "  Building wheel for sqlalchemy (pyproject.toml): finished with status 'done'\n",
      "  Created wheel for sqlalchemy: filename=sqlalchemy-1.4.54-cp313-cp313-win_amd64.whl size=1581542 sha256=b2f2fbdfb54a1dfe99e522328297e8b7cd2809a0f192351a78ea319f057bfac7\n",
      "  Stored in directory: c:\\users\\lntwa\\appdata\\local\\pip\\cache\\wheels\\66\\d4\\be\\4c07d30f4e85a3d3789094f906c6050425b0183674c46548d0\n",
      "Successfully built sqlalchemy\n",
      "Installing collected packages: banal, sqlalchemy, Mako, alembic, dataset\n",
      "\n",
      "  Attempting uninstall: sqlalchemy\n",
      "\n",
      "    Found existing installation: SQLAlchemy 2.0.43\n",
      "\n",
      "   -------- ------------------------------- 1/5 [sqlalchemy]\n",
      "    Uninstalling SQLAlchemy-2.0.43:\n",
      "   -------- ------------------------------- 1/5 [sqlalchemy]\n",
      "      Successfully uninstalled SQLAlchemy-2.0.43\n",
      "   -------- ------------------------------- 1/5 [sqlalchemy]\n",
      "   -------- ------------------------------- 1/5 [sqlalchemy]\n",
      "   -------- ------------------------------- 1/5 [sqlalchemy]\n",
      "   -------- ------------------------------- 1/5 [sqlalchemy]\n",
      "   -------- ------------------------------- 1/5 [sqlalchemy]\n",
      "   -------- ------------------------------- 1/5 [sqlalchemy]\n",
      "   -------- ------------------------------- 1/5 [sqlalchemy]\n",
      "   -------- ------------------------------- 1/5 [sqlalchemy]\n",
      "   -------- ------------------------------- 1/5 [sqlalchemy]\n",
      "   -------- ------------------------------- 1/5 [sqlalchemy]\n",
      "   -------- ------------------------------- 1/5 [sqlalchemy]\n",
      "   -------- ------------------------------- 1/5 [sqlalchemy]\n",
      "   -------- ------------------------------- 1/5 [sqlalchemy]\n",
      "   -------- ------------------------------- 1/5 [sqlalchemy]\n",
      "   -------- ------------------------------- 1/5 [sqlalchemy]\n",
      "   -------- ------------------------------- 1/5 [sqlalchemy]\n",
      "   -------- ------------------------------- 1/5 [sqlalchemy]\n",
      "   -------- ------------------------------- 1/5 [sqlalchemy]\n",
      "   -------- ------------------------------- 1/5 [sqlalchemy]\n",
      "   -------- ------------------------------- 1/5 [sqlalchemy]\n",
      "   -------- ------------------------------- 1/5 [sqlalchemy]\n",
      "   -------- ------------------------------- 1/5 [sqlalchemy]\n",
      "   -------- ------------------------------- 1/5 [sqlalchemy]\n",
      "   -------- ------------------------------- 1/5 [sqlalchemy]\n",
      "   -------- ------------------------------- 1/5 [sqlalchemy]\n",
      "   -------- ------------------------------- 1/5 [sqlalchemy]\n",
      "   -------- ------------------------------- 1/5 [sqlalchemy]\n",
      "   -------- ------------------------------- 1/5 [sqlalchemy]\n",
      "   -------- ------------------------------- 1/5 [sqlalchemy]\n",
      "   -------- ------------------------------- 1/5 [sqlalchemy]\n",
      "   -------- ------------------------------- 1/5 [sqlalchemy]\n",
      "   -------- ------------------------------- 1/5 [sqlalchemy]\n",
      "   -------- ------------------------------- 1/5 [sqlalchemy]\n",
      "   -------- ------------------------------- 1/5 [sqlalchemy]\n",
      "   -------- ------------------------------- 1/5 [sqlalchemy]\n",
      "   -------- ------------------------------- 1/5 [sqlalchemy]\n",
      "   ---------------- ----------------------- 2/5 [Mako]\n",
      "   ---------------- ----------------------- 2/5 [Mako]\n",
      "   ---------------- ----------------------- 2/5 [Mako]\n",
      "   ---------------- ----------------------- 2/5 [Mako]\n",
      "   ---------------- ----------------------- 2/5 [Mako]\n",
      "   ---------------- ----------------------- 2/5 [Mako]\n",
      "   ---------------- ----------------------- 2/5 [Mako]\n",
      "   ------------------------ --------------- 3/5 [alembic]\n",
      "   ------------------------ --------------- 3/5 [alembic]\n",
      "   ------------------------ --------------- 3/5 [alembic]\n",
      "   ------------------------ --------------- 3/5 [alembic]\n",
      "   ------------------------ --------------- 3/5 [alembic]\n",
      "   ------------------------ --------------- 3/5 [alembic]\n",
      "   ------------------------ --------------- 3/5 [alembic]\n",
      "   ------------------------ --------------- 3/5 [alembic]\n",
      "   ------------------------ --------------- 3/5 [alembic]\n",
      "   ------------------------ --------------- 3/5 [alembic]\n",
      "   ------------------------ --------------- 3/5 [alembic]\n",
      "   ------------------------ --------------- 3/5 [alembic]\n",
      "   -------------------------------- ------- 4/5 [dataset]\n",
      "   ---------------------------------------- 5/5 [dataset]\n",
      "\n",
      "Successfully installed Mako-1.3.10 alembic-1.17.0 banal-1.0.6 dataset-1.6.2 sqlalchemy-1.4.54\n",
      "Note: you may need to restart the kernel to use updated packages.\n"
     ]
    },
    {
     "name": "stderr",
     "output_type": "stream",
     "text": [
      "ERROR: pip's dependency resolver does not currently take into account all the packages that are installed. This behaviour is the source of the following dependency conflicts.\n",
      "flask-sqlalchemy 3.1.1 requires sqlalchemy>=2.0.16, but you have sqlalchemy 1.4.54 which is incompatible.\n"
     ]
    }
   ],
   "source": [
    "pip install dataset"
   ]
  },
  {
   "cell_type": "code",
   "execution_count": 4,
   "id": "27fc7e4f",
   "metadata": {},
   "outputs": [],
   "source": [
    "\n",
    "import dataset"
   ]
  },
  {
   "cell_type": "code",
   "execution_count": 5,
   "id": "9c655b90",
   "metadata": {},
   "outputs": [],
   "source": [
    "# https://dataset.readthedocs.io/en/latest/quickstart.html\n",
    "\n",
    "# https://blog.miguelgrinberg.com/post/the-flask-mega-tutorial-part-i-hello-world"
   ]
  },
  {
   "cell_type": "code",
   "execution_count": 7,
   "id": "2bae1d73",
   "metadata": {},
   "outputs": [],
   "source": [
    "# connecting to a SQLite database\n",
    "db = dataset.connect('sqlite:///example1.db')"
   ]
  },
  {
   "cell_type": "code",
   "execution_count": 8,
   "id": "2e7c2b4b",
   "metadata": {},
   "outputs": [],
   "source": [
    "# get a reference to the table 'user'\n",
    "table = db['user']"
   ]
  },
  {
   "cell_type": "markdown",
   "id": "1b6a8da7",
   "metadata": {},
   "source": [
    "creating another table item"
   ]
  },
  {
   "cell_type": "code",
   "execution_count": 10,
   "id": "7ea13013",
   "metadata": {},
   "outputs": [],
   "source": [
    "item =db['item']"
   ]
  },
  {
   "cell_type": "code",
   "execution_count": 11,
   "id": "7fc4c53f",
   "metadata": {},
   "outputs": [
    {
     "data": {
      "text/plain": [
       "1"
      ]
     },
     "execution_count": 11,
     "metadata": {},
     "output_type": "execute_result"
    }
   ],
   "source": [
    "item.insert(dict(name= \"pensil\", price = 2))"
   ]
  },
  {
   "cell_type": "code",
   "execution_count": 9,
   "id": "980f7114",
   "metadata": {},
   "outputs": [
    {
     "data": {
      "text/plain": [
       "1"
      ]
     },
     "execution_count": 9,
     "metadata": {},
     "output_type": "execute_result"
    }
   ],
   "source": [
    "# Insert a new record.\n",
    "table.insert(dict(name='John Doe', age=46, country='China'))\n"
   ]
  },
  {
   "cell_type": "markdown",
   "id": "7463a707",
   "metadata": {},
   "source": [
    "update country where name is john doe"
   ]
  },
  {
   "cell_type": "code",
   "execution_count": 12,
   "id": "3c5f844b",
   "metadata": {},
   "outputs": [
    {
     "data": {
      "text/plain": [
       "1"
      ]
     },
     "execution_count": 12,
     "metadata": {},
     "output_type": "execute_result"
    }
   ],
   "source": [
    "table.update(dict(name='John Doe', country=\"Panama\"), ['name'])"
   ]
  },
  {
   "cell_type": "code",
   "execution_count": 13,
   "id": "62ceabb2",
   "metadata": {},
   "outputs": [
    {
     "data": {
      "text/plain": [
       "1"
      ]
     },
     "execution_count": 13,
     "metadata": {},
     "output_type": "execute_result"
    }
   ],
   "source": [
    "item.update(dict(name =\"pensil\", price =100,status = \"instock\" ),['name'])"
   ]
  },
  {
   "cell_type": "code",
   "execution_count": 6,
   "id": "7dd6d387",
   "metadata": {},
   "outputs": [],
   "source": [
    "db.begin()\n",
    "try:\n",
    "    db['user'].insert(dict(name='John Doe', age=46, country='China'))\n",
    "    db.commit()\n",
    "except:\n",
    "    db.rollback()"
   ]
  },
  {
   "cell_type": "code",
   "execution_count": 14,
   "id": "2853e780",
   "metadata": {},
   "outputs": [
    {
     "data": {
      "text/plain": [
       "['item', 'user']"
      ]
     },
     "execution_count": 14,
     "metadata": {},
     "output_type": "execute_result"
    }
   ],
   "source": [
    "db.tables"
   ]
  },
  {
   "cell_type": "code",
   "execution_count": 20,
   "id": "c127318a",
   "metadata": {},
   "outputs": [
    {
     "name": "stdout",
     "output_type": "stream",
     "text": [
      "['id', 'name', 'age', 'country'] ['id', 'name', 'price', 'status']\n"
     ]
    }
   ],
   "source": [
    "userfields = db['user'].columns\n",
    "itemfields =db['item'].columns\n",
    "print(userfields, itemfields)"
   ]
  },
  {
   "cell_type": "code",
   "execution_count": 21,
   "id": "f94e4a4c",
   "metadata": {},
   "outputs": [
    {
     "data": {
      "text/plain": [
       "[OrderedDict([('id', 1),\n",
       "              ('name', 'John Doe'),\n",
       "              ('age', 46),\n",
       "              ('country', 'Panama')])]"
      ]
     },
     "execution_count": 21,
     "metadata": {},
     "output_type": "execute_result"
    }
   ],
   "source": [
    "list(db['user'].all())"
   ]
  },
  {
   "cell_type": "code",
   "execution_count": 22,
   "id": "a9000336",
   "metadata": {},
   "outputs": [
    {
     "data": {
      "text/plain": [
       "{'id': 1, 'name': 'John Doe', 'age': 46, 'country': 'Panama'}"
      ]
     },
     "execution_count": 22,
     "metadata": {},
     "output_type": "execute_result"
    }
   ],
   "source": [
    "john = table.find_one(name='John Doe')\n",
    "dict(john)"
   ]
  },
  {
   "cell_type": "code",
   "execution_count": 25,
   "id": "24d72cd2",
   "metadata": {},
   "outputs": [
    {
     "name": "stdout",
     "output_type": "stream",
     "text": [
      "OrderedDict({'id': 1, 'name': 'pensil', 'price': 100, 'status': 'instock'})\n"
     ]
    }
   ],
   "source": [
    "itemofchoise = item.find_one(name=\"pensil\")\n",
    "print (itemofchoise)"
   ]
  },
  {
   "cell_type": "code",
   "execution_count": 27,
   "id": "08acca5f",
   "metadata": {},
   "outputs": [
    {
     "name": "stdout",
     "output_type": "stream",
     "text": [
      "[OrderedDict({'id': 1, 'name': 'pensil', 'price': 100, 'status': 'instock'})]\n"
     ]
    }
   ],
   "source": [
    "itemlists =list (db['item'])\n",
    "print(itemlists)"
   ]
  }
 ],
 "metadata": {
  "kernelspec": {
   "display_name": "Python 3",
   "language": "python",
   "name": "python3"
  },
  "language_info": {
   "codemirror_mode": {
    "name": "ipython",
    "version": 3
   },
   "file_extension": ".py",
   "mimetype": "text/x-python",
   "name": "python",
   "nbconvert_exporter": "python",
   "pygments_lexer": "ipython3",
   "version": "3.13.5"
  }
 },
 "nbformat": 4,
 "nbformat_minor": 5
}
