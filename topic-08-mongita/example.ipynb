{
 "cells": [
  {
   "cell_type": "code",
   "execution_count": 1,
   "id": "a0bff755",
   "metadata": {},
   "outputs": [],
   "source": [
    "# pip install mongita\n",
    "\n",
    "from mongita import MongitaClientDisk"
   ]
  },
  {
   "cell_type": "code",
   "execution_count": 2,
   "id": "fec4e032",
   "metadata": {},
   "outputs": [],
   "source": [
    "client = MongitaClientDisk()"
   ]
  },
  {
   "cell_type": "code",
   "execution_count": 3,
   "id": "a345c081",
   "metadata": {},
   "outputs": [],
   "source": [
    "db = client[\"test_db\"]"
   ]
  },
  {
   "cell_type": "code",
   "execution_count": 4,
   "id": "435afff6",
   "metadata": {},
   "outputs": [],
   "source": [
    "student_collection = db[\"students\"]"
   ]
  },
  {
   "cell_type": "code",
   "execution_count": 6,
   "id": "cc424ed5",
   "metadata": {},
   "outputs": [
    {
     "data": {
      "text/plain": [
       "<mongita.results.InsertManyResult at 0x1da918ba5d0>"
      ]
     },
     "execution_count": 6,
     "metadata": {},
     "output_type": "execute_result"
    }
   ],
   "source": [
    "student_collection.insert_many([\n",
    "    {\"name\":\"Dorothy\",\"major\":\"dog studies\"},\n",
    "    {\"name\":\"Sandy\",\"major\":\"applied laziness\"},\n",
    "    {\"name\":\"Nemo\",\"major\":\"swimming\",\"needs\":\"aquarium\", \"quantity\":100}\n",
    "])"
   ]
  },
  {
   "cell_type": "code",
   "execution_count": 7,
   "id": "6a260e05",
   "metadata": {},
   "outputs": [
    {
     "data": {
      "text/plain": [
       "[{'name': 'Dorothy',\n",
       "  'major': 'dog studies',\n",
       "  '_id': ObjectId('69000b263935c1819a4cc8a5')},\n",
       " {'name': 'Sandy',\n",
       "  'major': 'applied laziness',\n",
       "  '_id': ObjectId('69000b263935c1819a4cc8a6')},\n",
       " {'name': 'Nemo',\n",
       "  'major': 'swimming',\n",
       "  'needs': 'aquarium',\n",
       "  '_id': ObjectId('69000b263935c1819a4cc8a7')},\n",
       " {'name': 'Dorothy',\n",
       "  'major': 'dog studies',\n",
       "  '_id': ObjectId('69000b523935c1819a4cc8aa')},\n",
       " {'name': 'Sandy',\n",
       "  'major': 'applied laziness',\n",
       "  '_id': ObjectId('69000b523935c1819a4cc8ab')},\n",
       " {'name': 'Nemo',\n",
       "  'major': 'swimming',\n",
       "  'needs': 'aquarium',\n",
       "  'quantity': 100,\n",
       "  '_id': ObjectId('69000b523935c1819a4cc8ac')}]"
      ]
     },
     "execution_count": 7,
     "metadata": {},
     "output_type": "execute_result"
    }
   ],
   "source": [
    "result = student_collection.find()\n",
    "list(result)"
   ]
  },
  {
   "cell_type": "code",
   "execution_count": 20,
   "id": "efcd02c1",
   "metadata": {},
   "outputs": [
    {
     "data": {
      "text/plain": [
       "[{'name': 'Dorothy',\n",
       "  'major': 'dog studies',\n",
       "  '_id': ObjectId('69000b263935c1819a4cc8a5')},\n",
       " {'name': 'Nemo',\n",
       "  'major': 'swimming',\n",
       "  'needs': 'aquarium',\n",
       "  '_id': ObjectId('69000b263935c1819a4cc8a7')},\n",
       " {'name': 'Dorothy',\n",
       "  'major': 'dog studies',\n",
       "  '_id': ObjectId('69000b523935c1819a4cc8aa')},\n",
       " {'name': 'Nemo',\n",
       "  'major': 'swimming',\n",
       "  'needs': 'aquarium',\n",
       "  'quantity': 100,\n",
       "  '_id': ObjectId('69000b523935c1819a4cc8ac')}]"
      ]
     },
     "execution_count": 20,
     "metadata": {},
     "output_type": "execute_result"
    }
   ],
   "source": [
    "results = student_collection.find({\"name\":{\"$lt\":\"Sandy\"}})\n",
    "list(results)"
   ]
  },
  {
   "cell_type": "code",
   "execution_count": 27,
   "id": "7ade731a",
   "metadata": {},
   "outputs": [
    {
     "name": "stdout",
     "output_type": "stream",
     "text": [
      "[{'quantity': None}, {'quantity': None}]\n"
     ]
    }
   ],
   "source": [
    "# Step 1: Filter only\n",
    "cursor = student_collection.find({\"name\": {\"$eq\": \"Dorothy\"}})\n",
    "\n",
    "# Step 2: Manually project 'quantity' field\n",
    "result = [{\"quantity\": doc.get(\"quantity\")} for doc in cursor]\n",
    "print(result)\n"
   ]
  },
  {
   "cell_type": "code",
   "execution_count": 29,
   "id": "20fec6c4",
   "metadata": {},
   "outputs": [
    {
     "data": {
      "text/plain": [
       "{'name': 'Nemo',\n",
       " 'major': 'swimming',\n",
       " 'needs': 'aquarium',\n",
       " '_id': ObjectId('69000b263935c1819a4cc8a7')}"
      ]
     },
     "execution_count": 29,
     "metadata": {},
     "output_type": "execute_result"
    }
   ],
   "source": [
    "list(student_collection.find({\"name\":\"Nemo\"}))[0]"
   ]
  },
  {
   "cell_type": "code",
   "execution_count": 30,
   "id": "7fa12d72",
   "metadata": {},
   "outputs": [
    {
     "data": {
      "text/plain": [
       "<mongita.results.UpdateResult at 0x1da9197d940>"
      ]
     },
     "execution_count": 30,
     "metadata": {},
     "output_type": "execute_result"
    }
   ],
   "source": [
    "student_collection.update_one({\"name\":\"Nemo\"},{\"$set\":{\"major\":\"synchronized swimming\"}})"
   ]
  },
  {
   "cell_type": "code",
   "execution_count": 31,
   "id": "10104cd4",
   "metadata": {},
   "outputs": [
    {
     "data": {
      "text/plain": [
       "<mongita.results.DeleteResult at 0x1da9197da90>"
      ]
     },
     "execution_count": 31,
     "metadata": {},
     "output_type": "execute_result"
    }
   ],
   "source": [
    "student_collection.delete_one({\"name\":\"Sandy\"})"
   ]
  }
 ],
 "metadata": {
  "kernelspec": {
   "display_name": "Python 3",
   "language": "python",
   "name": "python3"
  },
  "language_info": {
   "codemirror_mode": {
    "name": "ipython",
    "version": 3
   },
   "file_extension": ".py",
   "mimetype": "text/x-python",
   "name": "python",
   "nbconvert_exporter": "python",
   "pygments_lexer": "ipython3",
   "version": "3.13.5"
  }
 },
 "nbformat": 4,
 "nbformat_minor": 5
}
